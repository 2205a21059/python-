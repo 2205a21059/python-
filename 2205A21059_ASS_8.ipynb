{
  "nbformat": 4,
  "nbformat_minor": 0,
  "metadata": {
    "colab": {
      "provenance": [],
      "authorship_tag": "ABX9TyNTPFzHE9/YUWoaGucvbaaq",
      "include_colab_link": true
    },
    "kernelspec": {
      "name": "python3",
      "display_name": "Python 3"
    },
    "language_info": {
      "name": "python"
    }
  },
  "cells": [
    {
      "cell_type": "markdown",
      "metadata": {
        "id": "view-in-github",
        "colab_type": "text"
      },
      "source": [
        "<a href=\"https://colab.research.google.com/github/2205a21059/python-/blob/main/2205A21059_ASS_8.ipynb\" target=\"_parent\"><img src=\"https://colab.research.google.com/assets/colab-badge.svg\" alt=\"Open In Colab\"/></a>"
      ]
    },
    {
      "cell_type": "code",
      "execution_count": null,
      "metadata": {
        "id": "d92wr0UyuL0A"
      },
      "outputs": [],
      "source": []
    },
    {
      "cell_type": "markdown",
      "source": [
        "FIGURE 1\n"
      ],
      "metadata": {
        "id": "NjaKCdZJuMjy"
      }
    },
    {
      "cell_type": "code",
      "source": [
        "Qualification=['venkat', 'B.Tech', 2006, 'Μ.Ε.', 2011, 'Ph.D', 2018]\n",
        "\n",
        "Experience=['SSCE', 2007, 'infosys', '2011', 'ΑΙΤΑΜ', '2013', 'SREC', '2018']\n",
        "\n",
        "CA=Qualification+Experience\n",
        "\n",
        "print(\"Qualification=\", Qualification)\n",
        "\n",
        "print(\"Experience=\", Experience)\n",
        "\n",
        "print(\"CA=\", CA)"
      ],
      "metadata": {
        "colab": {
          "base_uri": "https://localhost:8080/"
        },
        "id": "SgKeUi0VuOe6",
        "outputId": "3e92671d-84a8-40d9-f34a-ab0c56ede208"
      },
      "execution_count": 1,
      "outputs": [
        {
          "output_type": "stream",
          "name": "stdout",
          "text": [
            "Qualification= ['venkat', 'B.Tech', 2006, 'Μ.Ε.', 2011, 'Ph.D', 2018]\n",
            "Experience= ['SSCE', 2007, 'infosys', '2011', 'ΑΙΤΑΜ', '2013', 'SREC', '2018']\n",
            "CA= ['venkat', 'B.Tech', 2006, 'Μ.Ε.', 2011, 'Ph.D', 2018, 'SSCE', 2007, 'infosys', '2011', 'ΑΙΤΑΜ', '2013', 'SREC', '2018']\n"
          ]
        }
      ]
    },
    {
      "cell_type": "code",
      "source": [
        "Qualification=['venkat', 'B.Tech', 2006, 'M.E.', 2011, 'Ph.D', 2018]\n",
        "\n",
        "print(Qualification)\n",
        "\n",
        "print(Qualification[0])\n",
        "\n",
        "print(Qualification[1:])\n",
        "\n",
        "print(Qualification[1:5])\n",
        "\n",
        "print(Qualification *2)\n",
        "\n",
        "print(Qualification[::-1])\n"
      ],
      "metadata": {
        "colab": {
          "base_uri": "https://localhost:8080/"
        },
        "id": "X5L3xQqXuTcj",
        "outputId": "ee169ade-a2a4-4356-d873-7ed814817492"
      },
      "execution_count": 2,
      "outputs": [
        {
          "output_type": "stream",
          "name": "stdout",
          "text": [
            "['venkat', 'B.Tech', 2006, 'M.E.', 2011, 'Ph.D', 2018]\n",
            "venkat\n",
            "['B.Tech', 2006, 'M.E.', 2011, 'Ph.D', 2018]\n",
            "['B.Tech', 2006, 'M.E.', 2011]\n",
            "['venkat', 'B.Tech', 2006, 'M.E.', 2011, 'Ph.D', 2018, 'venkat', 'B.Tech', 2006, 'M.E.', 2011, 'Ph.D', 2018]\n",
            "[2018, 'Ph.D', 2011, 'M.E.', 2006, 'B.Tech', 'venkat']\n"
          ]
        }
      ]
    },
    {
      "cell_type": "code",
      "source": [
        "list=['venkat', '1985']\n",
        "\n",
        "print('Venkat birth year', list[1])\n",
        "\n",
        "list[0]='dev'\n",
        "\n",
        "list[1]=2017\n",
        "\n",
        "print('dev birth year', list[1])"
      ],
      "metadata": {
        "colab": {
          "base_uri": "https://localhost:8080/"
        },
        "id": "VcH-czxxubdA",
        "outputId": "05740302-a16d-4a0a-886b-84fb4a6683ee"
      },
      "execution_count": 3,
      "outputs": [
        {
          "output_type": "stream",
          "name": "stdout",
          "text": [
            "Venkat birth year 1985\n",
            "dev birth year 2017\n"
          ]
        }
      ]
    },
    {
      "cell_type": "markdown",
      "source": [
        "FIGURE 2\n"
      ],
      "metadata": {
        "id": "CIcvXwW5ug80"
      }
    },
    {
      "cell_type": "code",
      "source": [
        "list=['venkat', '1985']\n",
        "\n",
        "print(list)\n",
        "\n",
        "del list[1]\n",
        "\n",
        "print(list)\n"
      ],
      "metadata": {
        "colab": {
          "base_uri": "https://localhost:8080/"
        },
        "id": "0wV7wjYLujhB",
        "outputId": "ed5af0f5-9e26-4537-b539-0b7d04f85b39"
      },
      "execution_count": 4,
      "outputs": [
        {
          "output_type": "stream",
          "name": "stdout",
          "text": [
            "['venkat', '1985']\n",
            "['venkat']\n"
          ]
        }
      ]
    },
    {
      "cell_type": "code",
      "source": [
        "Name=['Ramana', 'Thanmai', 'Dev']\n",
        "\n",
        "DOB=[1985, 2014, 2017]\n",
        "\n",
        "print('Number of peoples', len (Name))\n",
        "\n",
        "print('==============')\n",
        "\n",
        "Details=Name+DOB # Concatination\n",
        "\n",
        "print('Biodata', Details)\n",
        "\n",
        "print('==========')\n",
        "\n",
        "Repetition=Name*2\n",
        "\n",
        "print('Repetition', Repetition)\n",
        "\n",
        "print('==========')\n",
        "\n",
        "for X in Name:\n",
        "\n",
        "  print(X)\n",
        "\n",
        "print('==========')"
      ],
      "metadata": {
        "colab": {
          "base_uri": "https://localhost:8080/"
        },
        "id": "T_P7qKi3uoRn",
        "outputId": "fec6f188-be25-4055-9119-f09936130843"
      },
      "execution_count": 5,
      "outputs": [
        {
          "output_type": "stream",
          "name": "stdout",
          "text": [
            "Number of peoples 3\n",
            "==============\n",
            "Biodata ['Ramana', 'Thanmai', 'Dev', 1985, 2014, 2017]\n",
            "==========\n",
            "Repetition ['Ramana', 'Thanmai', 'Dev', 'Ramana', 'Thanmai', 'Dev']\n",
            "==========\n",
            "Ramana\n",
            "Thanmai\n",
            "Dev\n",
            "==========\n"
          ]
        }
      ]
    },
    {
      "cell_type": "code",
      "source": [
        "Name=['Ramana','Thanmai','Dev']\n",
        "\n",
        "DOB=[1985,2014,2017]\n",
        "\n",
        "print('Name with maximum charecters', max (Name))\n",
        "\n",
        "print(\"Younger person DOB\", max(DOB))\n",
        "\n",
        "print('Name with minimum charecters', min (Name))\n",
        "\n",
        "print('Older person DOB', min(DOB))"
      ],
      "metadata": {
        "colab": {
          "base_uri": "https://localhost:8080/"
        },
        "id": "Q5xnrZgBus0D",
        "outputId": "40965331-5e88-4239-888e-9339a37920c9"
      },
      "execution_count": 6,
      "outputs": [
        {
          "output_type": "stream",
          "name": "stdout",
          "text": [
            "Name with maximum charecters Thanmai\n",
            "Younger person DOB 2017\n",
            "Name with minimum charecters Dev\n",
            "Older person DOB 1985\n"
          ]
        }
      ]
    },
    {
      "cell_type": "code",
      "source": [
        "Students=['ram', 'venkat']\n",
        "\n",
        "print (Students)\n",
        "\n",
        "Students.append('Dev')\n",
        "\n",
        "print(Students)\n"
      ],
      "metadata": {
        "colab": {
          "base_uri": "https://localhost:8080/"
        },
        "id": "CM9gaxYjuxJx",
        "outputId": "f07a93c5-4c9a-4cbf-9526-8899adc04345"
      },
      "execution_count": 7,
      "outputs": [
        {
          "output_type": "stream",
          "name": "stdout",
          "text": [
            "['ram', 'venkat']\n",
            "['ram', 'venkat', 'Dev']\n"
          ]
        }
      ]
    },
    {
      "cell_type": "markdown",
      "source": [
        "FIGURE 3\n"
      ],
      "metadata": {
        "id": "ZpC8C2tWu25_"
      }
    },
    {
      "cell_type": "code",
      "source": [
        "Family=['Ramana', 'Swetha', 'Thanmai', 'Dev']\n",
        "\n",
        "print('Family members', Family)\n",
        "\n",
        "Family.pop()\n",
        "\n",
        "print('Family members', Family)\n",
        "\n",
        "Family.pop(2)\n",
        "\n",
        "print('Family members', Family)"
      ],
      "metadata": {
        "colab": {
          "base_uri": "https://localhost:8080/"
        },
        "id": "72sQemkmu4na",
        "outputId": "d149c516-8c10-43a7-d7b5-bdebed2cf2da"
      },
      "execution_count": 8,
      "outputs": [
        {
          "output_type": "stream",
          "name": "stdout",
          "text": [
            "Family members ['Ramana', 'Swetha', 'Thanmai', 'Dev']\n",
            "Family members ['Ramana', 'Swetha', 'Thanmai']\n",
            "Family members ['Ramana', 'Swetha']\n"
          ]
        }
      ]
    },
    {
      "cell_type": "code",
      "source": [
        "Grade=['A','A','B','C','A','B']\n",
        "\n",
        "print(\"lowest index for grade B\",Grade.index(\"B\"))"
      ],
      "metadata": {
        "colab": {
          "base_uri": "https://localhost:8080/"
        },
        "id": "V8cxyjinu7_F",
        "outputId": "e21db7ec-fc9c-4bdb-f113-6271dbb5b9d8"
      },
      "execution_count": 11,
      "outputs": [
        {
          "output_type": "stream",
          "name": "stdout",
          "text": [
            "lowest index for grade B 2\n"
          ]
        }
      ]
    },
    {
      "cell_type": "code",
      "source": [
        "Family=[\"Venkat\", \"Swetha\"]\n",
        "print('Family members', Family)\n",
        "atuple=(\"Dev\", \"Thanmai\")\n",
        "Family.extend(atuple)\n",
        "print('Family members', Family)"
      ],
      "metadata": {
        "colab": {
          "base_uri": "https://localhost:8080/"
        },
        "id": "Dl8TAWB7vDFS",
        "outputId": "37cb0db1-ca9e-4fa0-8beb-0ee7e656a5d7"
      },
      "execution_count": 12,
      "outputs": [
        {
          "output_type": "stream",
          "name": "stdout",
          "text": [
            "Family members ['Venkat', 'Swetha']\n",
            "Family members ['Venkat', 'Swetha', 'Dev', 'Thanmai']\n"
          ]
        }
      ]
    },
    {
      "cell_type": "code",
      "source": [
        "Family=[\"Ramana\", \"Swetha\", \"Thanmai\", \"Dev\"]\n",
        "print(\"Family members\", Family)\n",
        "Family.reverse()\n",
        "print(\"Family members\", Family)"
      ],
      "metadata": {
        "colab": {
          "base_uri": "https://localhost:8080/"
        },
        "id": "9wSCGzYgvG8U",
        "outputId": "2c9653a5-ab92-4297-df9e-0d8a98bf8c2a"
      },
      "execution_count": 13,
      "outputs": [
        {
          "output_type": "stream",
          "name": "stdout",
          "text": [
            "Family members ['Ramana', 'Swetha', 'Thanmai', 'Dev']\n",
            "Family members ['Dev', 'Thanmai', 'Swetha', 'Ramana']\n"
          ]
        }
      ]
    },
    {
      "cell_type": "code",
      "source": [
        "Family=[\"Ramana\", \"Swetha\", \"Thanmai\", \"Dev\"]\n",
        "print(\"Family members\", Family)\n",
        "Family.remove(\"Ramana\")\n",
        "print(\"Family members\", Family)"
      ],
      "metadata": {
        "colab": {
          "base_uri": "https://localhost:8080/"
        },
        "id": "Pj8FHTOivKrZ",
        "outputId": "c77ff062-85cb-4a6d-8b2f-46a299667c0f"
      },
      "execution_count": 14,
      "outputs": [
        {
          "output_type": "stream",
          "name": "stdout",
          "text": [
            "Family members ['Ramana', 'Swetha', 'Thanmai', 'Dev']\n",
            "Family members ['Swetha', 'Thanmai', 'Dev']\n"
          ]
        }
      ]
    },
    {
      "cell_type": "code",
      "source": [
        "Name=['Ramana', 'Thanmai', 'Dev']\n",
        "\n",
        "print('Family members', Name)\n",
        "\n",
        "Name.insert(1, 'Swetha')\n",
        "\n",
        "print('Family members', Name)"
      ],
      "metadata": {
        "colab": {
          "base_uri": "https://localhost:8080/"
        },
        "id": "T_757zDuvOt1",
        "outputId": "4ac3fce8-e517-4fa7-ab94-cfe8da07ddb1"
      },
      "execution_count": 16,
      "outputs": [
        {
          "output_type": "stream",
          "name": "stdout",
          "text": [
            "Family members ['Ramana', 'Thanmai', 'Dev']\n",
            "Family members ['Ramana', 'Swetha', 'Thanmai', 'Dev']\n"
          ]
        }
      ]
    },
    {
      "cell_type": "code",
      "source": [
        "Grade=['A','A','B','C','A']\n",
        "\n",
        "print(\"lowest index for grade B\",Grade.index(\"A\"))"
      ],
      "metadata": {
        "colab": {
          "base_uri": "https://localhost:8080/"
        },
        "id": "7ktgfZMwvBiS",
        "outputId": "7ef96337-67b3-4c6b-accb-67029247ff8f"
      },
      "execution_count": 10,
      "outputs": [
        {
          "output_type": "stream",
          "name": "stdout",
          "text": [
            "lowest index for grade B 0\n"
          ]
        }
      ]
    },
    {
      "cell_type": "markdown",
      "source": [
        "FIGURE 4\n"
      ],
      "metadata": {
        "id": "Wsfnajsav3RJ"
      }
    },
    {
      "cell_type": "code",
      "source": [
        "tuple=('venkat','B.tech',2006)\n",
        "print(tuple)\n",
        "print(tuple[0])\n",
        "print(tuple[0:2])\n",
        "print(tuple[0:])\n",
        "print(tuple[::-1])\n",
        "print(tuple[2:0:-1])"
      ],
      "metadata": {
        "colab": {
          "base_uri": "https://localhost:8080/"
        },
        "id": "73Jd_zHIv5tr",
        "outputId": "72874d8d-cdd2-4f0e-f23f-388bfd5d27a5"
      },
      "execution_count": 17,
      "outputs": [
        {
          "output_type": "stream",
          "name": "stdout",
          "text": [
            "('venkat', 'B.tech', 2006)\n",
            "venkat\n",
            "('venkat', 'B.tech')\n",
            "('venkat', 'B.tech', 2006)\n",
            "(2006, 'B.tech', 'venkat')\n",
            "(2006, 'B.tech')\n"
          ]
        }
      ]
    },
    {
      "cell_type": "code",
      "source": [
        "tiny={'Name':'venkat','Marks':891}\n",
        "print(tiny)\n",
        "print(tiny['Name'])\n",
        "print(tiny['Marks'])\n",
        "tiny['Name']='ramana'\n",
        "print(tiny)"
      ],
      "metadata": {
        "colab": {
          "base_uri": "https://localhost:8080/"
        },
        "id": "xVpykQq_wBeS",
        "outputId": "ef54010e-7f07-4ca5-8665-5cefd768a2a4"
      },
      "execution_count": 18,
      "outputs": [
        {
          "output_type": "stream",
          "name": "stdout",
          "text": [
            "{'Name': 'venkat', 'Marks': 891}\n",
            "venkat\n",
            "891\n",
            "{'Name': 'ramana', 'Marks': 891}\n"
          ]
        }
      ]
    },
    {
      "cell_type": "code",
      "source": [
        "dict={}\n",
        "print(dict)\n",
        "dict['one']='this is one'\n",
        "print(dict)\n",
        "dict['2']='this is two'\n",
        "print(dict)\n",
        "print(dict.keys())\n",
        "print(dict.values())"
      ],
      "metadata": {
        "colab": {
          "base_uri": "https://localhost:8080/"
        },
        "id": "spFfd2l6wFYR",
        "outputId": "0c1b6eae-e609-4024-88a1-5aa23baf6440"
      },
      "execution_count": 19,
      "outputs": [
        {
          "output_type": "stream",
          "name": "stdout",
          "text": [
            "{}\n",
            "{'one': 'this is one'}\n",
            "{'one': 'this is one', '2': 'this is two'}\n",
            "dict_keys(['one', '2'])\n",
            "dict_values(['this is one', 'this is two'])\n"
          ]
        }
      ]
    },
    {
      "cell_type": "code",
      "source": [
        "tuple=('venkat','B.tech',2006)\n",
        "pgtuple=('M.E','2011')\n",
        "\n",
        "print(tuple*2)\n",
        "print(tuple + pgtuple)\n",
        "\n",
        "List=['venkat','Ph.D','2018']\n",
        "print(List)\n",
        "\n",
        "List[0]='Ramana'\n",
        "print(List)\n"
      ],
      "metadata": {
        "colab": {
          "base_uri": "https://localhost:8080/"
        },
        "id": "oAzTg62SwKUQ",
        "outputId": "60a0d0b4-ecc5-49bd-b534-5e66eb0368d0"
      },
      "execution_count": 20,
      "outputs": [
        {
          "output_type": "stream",
          "name": "stdout",
          "text": [
            "('venkat', 'B.tech', 2006, 'venkat', 'B.tech', 2006)\n",
            "('venkat', 'B.tech', 2006, 'M.E', '2011')\n",
            "['venkat', 'Ph.D', '2018']\n",
            "['Ramana', 'Ph.D', '2018']\n"
          ]
        }
      ]
    },
    {
      "cell_type": "markdown",
      "source": [
        "FIGURE 5\n"
      ],
      "metadata": {
        "id": "yJWbYxNZwNQ9"
      }
    },
    {
      "cell_type": "code",
      "source": [
        "thisset={\"apple\", \"banana\", \"cherry\"}\n",
        "mylist = [\"kiwi\", \"orange\"]\n",
        "mylist_2=(2,3)\n",
        "mylist_3={\"Name\": \"Venkat\", \"School\": \"SRU\"}\n",
        "\n",
        "thisset.update(mylist)\n",
        "thisset.update(mylist_2)\n",
        "thisset.update(mylist_3)\n",
        "\n",
        "print(thisset)"
      ],
      "metadata": {
        "colab": {
          "base_uri": "https://localhost:8080/"
        },
        "id": "hd-amxKgwPJ8",
        "outputId": "a7d069d5-873c-450b-8806-8ffebf43635e"
      },
      "execution_count": 21,
      "outputs": [
        {
          "output_type": "stream",
          "name": "stdout",
          "text": [
            "{'orange', 2, 'banana', 3, 'School', 'kiwi', 'apple', 'cherry', 'Name'}\n"
          ]
        }
      ]
    },
    {
      "cell_type": "code",
      "source": [
        "thisset={\"apple\", \"banana\", \"cherry\"}\n",
        "\n",
        "\n",
        "for x in thisset:\n",
        "    print(x)"
      ],
      "metadata": {
        "colab": {
          "base_uri": "https://localhost:8080/"
        },
        "id": "KiUp90iYwTqK",
        "outputId": "9db5edc1-2a68-472e-851c-97092dfadb59"
      },
      "execution_count": 22,
      "outputs": [
        {
          "output_type": "stream",
          "name": "stdout",
          "text": [
            "cherry\n",
            "banana\n",
            "apple\n"
          ]
        }
      ]
    },
    {
      "cell_type": "code",
      "source": [
        "thisset={\"apple\", \"banana\", \"Cherry\"}\n",
        "tropical={\"pineapple\", \"mango\", \"papaya\"}\n",
        "\n",
        "thisset.update(tropical)\n",
        "\n",
        "print(thisset)"
      ],
      "metadata": {
        "colab": {
          "base_uri": "https://localhost:8080/"
        },
        "id": "zS6UNSJYwW6f",
        "outputId": "7c8325ec-eb17-4425-f359-9ad5fa7d76fe"
      },
      "execution_count": 23,
      "outputs": [
        {
          "output_type": "stream",
          "name": "stdout",
          "text": [
            "{'Cherry', 'banana', 'mango', 'apple', 'pineapple', 'papaya'}\n"
          ]
        }
      ]
    }
  ]
}